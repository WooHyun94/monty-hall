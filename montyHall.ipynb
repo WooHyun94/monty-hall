{
 "cells": [
  {
   "cell_type": "markdown",
   "id": "a875e87d",
   "metadata": {},
   "source": [
    "## Monty-Hall Problem"
   ]
  },
  {
   "cell_type": "code",
   "execution_count": 19,
   "id": "3d786237",
   "metadata": {
    "ExecuteTime": {
     "end_time": "2022-09-23T12:53:15.570428Z",
     "start_time": "2022-09-23T12:53:15.563422Z"
    }
   },
   "outputs": [],
   "source": [
    "# # Created by jjooki\n",
    "# import numpy as np\n",
    "\n",
    "# def shuffle_correct():\n",
    "#     for i in range(100):\n",
    "#         return np.random.randint(1, 4)\n",
    "\n",
    "# def open_door(choice1, correct):\n",
    "#     if choice1 == correct:\n",
    "#         doors = [i for i in range(1, 4) if i != correct]\n",
    "#         return doors[np.random.randint(2)]\n",
    "#     else:\n",
    "#         doors = [i for i in range(1, 4) if (i != correct) and (i != choice1)]\n",
    "#         return doors[0]\n",
    "    \n",
    "# def check_correct(choice1, choice2, open_door, correct):\n",
    "#     if choice2 == 'stay':\n",
    "#         last_choice = choice1\n",
    "#     elif choice2 == 'change':\n",
    "#         doors = [i for i in range(1, 4) if (i != open_door) and (i != choice1)]\n",
    "#         last_choice = door[0]\n",
    "    \n",
    "#     return last_choice == correct"
   ]
  },
  {
   "cell_type": "code",
   "execution_count": 28,
   "id": "5ddb3caf",
   "metadata": {
    "ExecuteTime": {
     "end_time": "2022-09-23T13:05:27.665262Z",
     "start_time": "2022-09-23T13:05:27.651249Z"
    }
   },
   "outputs": [],
   "source": [
    "# import matplotlib.pyplot as plt\n",
    "# import seaborn as sns\n",
    "\n",
    "# def simulation(n):\n",
    "#     choice1 = np.random.randint(1,4)\n",
    "#     count = {'stay' : 0, 'change' : 0}\n",
    "#     count_stay = 0\n",
    "#     count_change = 0\n",
    "#     for i in range(n):\n",
    "#         if check_correct(choice1, 'stay', open_door(choice1, correct), shuffle_correct()):\n",
    "#             count['stay'] += 1\n",
    "#         else:\n",
    "#             count['change'] += 1\n",
    "#     return count"
   ]
  },
  {
   "cell_type": "code",
   "execution_count": 47,
   "id": "0a86c287",
   "metadata": {
    "ExecuteTime": {
     "end_time": "2022-09-23T13:13:39.556519Z",
     "start_time": "2022-09-23T13:13:39.549513Z"
    }
   },
   "outputs": [],
   "source": [
    "# def visualization(count):\n",
    "#     plt.figure(figsize=(14,8))\n",
    "#     plt.bar(count.keys(), count.values())\n",
    "#     plt.show()"
   ]
  },
  {
   "cell_type": "code",
   "execution_count": 48,
   "id": "4dbd3d9d",
   "metadata": {
    "ExecuteTime": {
     "end_time": "2022-09-23T13:13:54.666426Z",
     "start_time": "2022-09-23T13:13:54.569338Z"
    },
    "scrolled": true
   },
   "outputs": [
    {
     "data": {
      "image/png": "[encoded data removed]",
      "text/plain": [
       "<Figure size 1008x576 with 1 Axes>"
      ]
     },
     "metadata": {
      "needs_background": "light"
     },
     "output_type": "display_data"
    }
   ],
   "source": [
    "# count = simulation(1000)\n",
    "# visualization(count)"
   ]
  },
  {
   "cell_type": "code",
   "execution_count": 46,
   "id": "2322eef9",
   "metadata": {
    "ExecuteTime": {
     "end_time": "2022-09-23T13:11:03.572663Z",
     "start_time": "2022-09-23T13:11:00.928741Z"
    }
   },
   "outputs": [
    {
     "name": "stdout",
     "output_type": "stream",
     "text": [
      "몬티홀을 반복할 횟수를 입력하세요: 100\n",
      "성공 69번, 실패 31번, 성공확률69.000000%입니다.\n"
     ]
    }
   ],
   "source": [
    "import numpy as np\n",
    "import random\n",
    "from random import randint\n",
    "k=int(input('몬티홀을 반복할 횟수를 입력하세요: '))\n",
    "# 몬티홀 게임세팅을 위한 함수 정의\n",
    "def montihall(time):\n",
    "    success=0\n",
    "    failure=0\n",
    "    for i in range(time):\n",
    "        car = randint(0,2) #자동차가 있는 곳을 램덤선택\n",
    "        doors = [0, 0, 0]\n",
    "        doors[car] +=1 # 차가 있는 곳을 1로 만들기\n",
    "        choice = randint(0,2)\n",
    "#       seed = np.random.randint(100)\n",
    "        if doors[choice]==0: #염소를 고른 경우 고른 것을 +2\n",
    "            doors[choice]+=2\n",
    "        else: #차를 고른 경우 3으로 바꾸이 준다\n",
    "            doors[choice] = 3\n",
    "        doors.remove(0) # 염소가 있는 곳을 개방\n",
    "        if 2 in doors:\n",
    "            success += 1\n",
    "        else :\n",
    "            failure += 1\n",
    "    arr = [success, failure, success + failure, success/(success+failure)]\n",
    "    return arr\n",
    "arr = montihall(k)\n",
    "print('성공 %d번, 실패 %d번, 성공확률%f%%입니다.'%(arr[0], arr[1], arr[3]*100))"
   ]
  },
  {
   "cell_type": "code",
   "execution_count": 53,
   "id": "87719fc4",
   "metadata": {
    "ExecuteTime": {
     "end_time": "2022-09-23T13:16:25.567307Z",
     "start_time": "2022-09-23T13:16:25.560301Z"
    }
   },
   "outputs": [],
   "source": [
    "def visualization_team(arr):\n",
    "    print(f\"선택지를 바꿨을 때, 성공확률은 {arr[3] * 100}%입니다.\")\n",
    "    plt.figure(figsize=(14,8))\n",
    "    plt.bar(['Success', 'Failure'], arr[:2])\n",
    "    plt.show()"
   ]
  },
  {
   "cell_type": "code",
   "execution_count": 54,
   "id": "2b0ab72f",
   "metadata": {
    "ExecuteTime": {
     "end_time": "2022-09-23T13:16:25.702934Z",
     "start_time": "2022-09-23T13:16:25.613854Z"
    }
   },
   "outputs": [
    {
     "name": "stdout",
     "output_type": "stream",
     "text": [
      "선택지를 바꿨을 때, 성공확률은 69.0%입니다.\n"
     ]
    },
    {
     "data": {
      "image/png": "[encoded data removed]",
      "text/plain": [
       "<Figure size 1008x576 with 1 Axes>"
      ]
     },
     "metadata": {
      "needs_background": "light"
     },
     "output_type": "display_data"
    }
   ],
   "source": [
    "visualization_team(arr)"
   ]
  },
  {
   "cell_type": "code",
   "execution_count": null,
   "id": "d66e77f0",
   "metadata": {},
   "outputs": [],
   "source": []
  }
 ],
 "metadata": {
  "hide_input": false,
  "kernelspec": {
   "display_name": "Python 3",
   "language": "python",
   "name": "python3"
  },
  "language_info": {
   "codemirror_mode": {
    "name": "ipython",
    "version": 3
   },
   "file_extension": ".py",
   "mimetype": "text/x-python",
   "name": "python",
   "nbconvert_exporter": "python",
   "pygments_lexer": "ipython3",
   "version": "3.8.8"
  },
  "varInspector": {
   "cols": {
    "lenName": 16,
    "lenType": 16,
    "lenVar": 40
   },
   "kernels_config": {
    "python": {
     "delete_cmd_postfix": "",
     "delete_cmd_prefix": "del ",
     "library": "var_list.py",
     "varRefreshCmd": "print(var_dic_list())"
    },
    "r": {
     "delete_cmd_postfix": ") ",
     "delete_cmd_prefix": "rm(",
     "library": "var_list.r",
     "varRefreshCmd": "cat(var_dic_list()) "
    }
   },
   "types_to_exclude": [
    "module",
    "function",
    "builtin_function_or_method",
    "instance",
    "_Feature"
   ],
   "window_display": false
  }
 },
 "nbformat": 4,
 "nbformat_minor": 5
}
