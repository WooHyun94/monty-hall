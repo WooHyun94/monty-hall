{
 "cells": [
  {
   "cell_type": "markdown",
   "id": "a875e87d",
   "metadata": {},
   "source": [
    "## Monty-Hall Problem"
   ]
  },
  {
   "cell_type": "code",

   "execution_count": 17,
   "id": "3d786237",
   "metadata": {},
   "outputs": [
    {
     "name": "stdout",
     "output_type": "stream",
     "text": [
      "몬티홀을 반복할 횟수를 입력하세요: 10000\n",
      "선택지를 바꿨을 때, 성공확률은 67.09%입니다.\n"
     ]
    },
    {
     "data": {
      "image/png": "[encoded data removed]",
      "text/plain": [
       "<Figure size 1008x576 with 1 Axes>"
      ]
     },
     "metadata": {
      "needs_background": "light"
     },
     "output_type": "display_data"
    }
   ],
   "source": [
    "import numpy as np\n",
    "import random\n",
    "from random import randint\n",
    "import matplotlib.pyplot as plt\n",
    "\n",
    "\n",
    "k=int(input('몬티홀을 반복할 횟수를 입력하세요: '))\n",
    "\n",
    "def montihall(time):\n",
    "    success=0\n",
    "    failure=0\n",
    "    for i in range(time):\n",
    "        car = randint(0,2) \n",
    "        doors = [0, 0, 0]\n",
    "        doors[car] +=1 \n",
    "        choice = randint(0,2)\n",
    "\n",
    "        if doors[choice]==0: \n",
    "            doors[choice]+=2\n",
    "        else: \n",
    "            doors[choice] = 3\n",
    "        doors.remove(0) \n",
    "        if 2 in doors:\n",
    "            success += 1\n",
    "        else :\n",
    "            failure += 1\n",
    "    arr = [success, failure, success + failure, success/(success+failure)]\n",
    "    return arr\n",
    "def visualization_team(arr):\n",
    "    print(f\"선택지를 바꿨을 때, 성공확률은 {arr[3] * 100}%입니다.\")\n",
    "    plt.figure(figsize=(14,8))\n",
    "    plt.bar(['Success', 'Failure'], arr[:2])\n",
    "    plt.show()\n",
    "    \n",
    "arr = montihall(k)\n",
    "visualization_team(arr)"

   ]
  },
  {
   "cell_type": "code",

   "execution_count": null,
   "id": "ba04dcde",

   "metadata": {},
   "outputs": [],
   "source": []
  }
 ],
 "metadata": {
  "hide_input": false,
  "kernelspec": {
   "display_name": "Python 3",
   "language": "python",
   "name": "python3"
  },
  "language_info": {
   "codemirror_mode": {
    "name": "ipython",
    "version": 3
   },
   "file_extension": ".py",
   "mimetype": "text/x-python",
   "name": "python",
   "nbconvert_exporter": "python",
   "pygments_lexer": "ipython3",
   "version": "3.8.8"
  },
  "varInspector": {
   "cols": {
    "lenName": 16,
    "lenType": 16,
    "lenVar": 40
   },
   "kernels_config": {
    "python": {
     "delete_cmd_postfix": "",
     "delete_cmd_prefix": "del ",
     "library": "var_list.py",
     "varRefreshCmd": "print(var_dic_list())"
    },
    "r": {
     "delete_cmd_postfix": ") ",
     "delete_cmd_prefix": "rm(",
     "library": "var_list.r",
     "varRefreshCmd": "cat(var_dic_list()) "
    }
   },
   "types_to_exclude": [
    "module",
    "function",
    "builtin_function_or_method",
    "instance",
    "_Feature"
   ],
   "window_display": false
  }
 },
 "nbformat": 4,
 "nbformat_minor": 5
}
