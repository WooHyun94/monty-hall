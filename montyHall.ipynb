{
 "cells": [
  {
   "cell_type": "markdown",
   "id": "a875e87d",
   "metadata": {},
   "source": [
    "## Monty-Hall Problem"
   ]
  },
  {
   "cell_type": "code",
   "execution_count": null,
   "id": "3d786237",
   "metadata": {},
   "outputs": [],
   "source": [
    "import numpy as np\n",
    "import random\n",
    "\n",
    "for i in range(100):\n",
    "    seed = np.random.randint(100)\n",
    "    np.random.seed(seed)\n",
    "    correct = random.randint(1, 3)\n",
    "    print(correct)\n",
    "    \n",
    "    "
   ]
  }
 ],
 "metadata": {
  "kernelspec": {
   "display_name": "Python 3",
   "language": "python",
   "name": "python3"
  },
  "language_info": {
   "codemirror_mode": {
    "name": "ipython",
    "version": 3
   },
   "file_extension": ".py",
   "mimetype": "text/x-python",
   "name": "python",
   "nbconvert_exporter": "python",
   "pygments_lexer": "ipython3",
   "version": "3.8.8"
  }
 },
 "nbformat": 4,
 "nbformat_minor": 5
}
