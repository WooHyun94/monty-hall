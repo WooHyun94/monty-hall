{
 "cells": [
  {
   "cell_type": "markdown",
   "id": "a875e87d",
   "metadata": {},
   "source": [
    "## Monty-Hall Problem"
   ]
  },
  {
   "cell_type": "code",
   "execution_count": null,
   "id": "6f0dac8e",
   "metadata": {},
   "outputs": [],
   "source": [
    "import random \n",
    "\n",
    "for i in range(100):\n",
    "    correct = random.randint(1, 3)\n",
    "    \n",
    "    "
   ]
  }
 ],
 "metadata": {
  "kernelspec": {
   "display_name": "Python 3",
   "language": "python",
   "name": "python3"
  },
  "language_info": {
   "codemirror_mode": {
    "name": "ipython",
    "version": 3
   },
   "file_extension": ".py",
   "mimetype": "text/x-python",
   "name": "python",
   "nbconvert_exporter": "python",
   "pygments_lexer": "ipython3",
   "version": "3.8.8"
  }
 },
 "nbformat": 4,
 "nbformat_minor": 5
}
